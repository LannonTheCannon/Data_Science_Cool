{
 "cells": [
  {
   "cell_type": "code",
   "execution_count": 9,
   "metadata": {
    "collapsed": true
   },
   "outputs": [
    {
     "name": "stdout",
     "output_type": "stream",
     "text": [
      "Predicted values: [[2004.7708714   554.0188474    34.05929859 1221.97485486   33.15704357]]\n"
     ]
    },
    {
     "name": "stderr",
     "output_type": "stream",
     "text": [
      "/Users/lannonkhau/opt/anaconda3/envs/Predicting_Restaurant_Robotic_Integration/lib/python3.8/site-packages/sklearn/base.py:347: InconsistentVersionWarning: Trying to unpickle estimator Ridge from version 1.0 when using version 1.3.0. This might lead to breaking code or invalid results. Use at your own risk. For more info please refer to:\n",
      "https://scikit-learn.org/stable/model_persistence.html#security-maintainability-limitations\n",
      "  warnings.warn(\n",
      "/Users/lannonkhau/opt/anaconda3/envs/Predicting_Restaurant_Robotic_Integration/lib/python3.8/site-packages/sklearn/base.py:347: InconsistentVersionWarning: Trying to unpickle estimator MultiOutputRegressor from version 1.0 when using version 1.3.0. This might lead to breaking code or invalid results. Use at your own risk. For more info please refer to:\n",
      "https://scikit-learn.org/stable/model_persistence.html#security-maintainability-limitations\n",
      "  warnings.warn(\n",
      "/Users/lannonkhau/opt/anaconda3/envs/Predicting_Restaurant_Robotic_Integration/lib/python3.8/site-packages/sklearn/base.py:464: UserWarning: X does not have valid feature names, but Ridge was fitted with feature names\n",
      "  warnings.warn(\n",
      "/Users/lannonkhau/opt/anaconda3/envs/Predicting_Restaurant_Robotic_Integration/lib/python3.8/site-packages/sklearn/base.py:464: UserWarning: X does not have valid feature names, but Ridge was fitted with feature names\n",
      "  warnings.warn(\n",
      "/Users/lannonkhau/opt/anaconda3/envs/Predicting_Restaurant_Robotic_Integration/lib/python3.8/site-packages/sklearn/base.py:464: UserWarning: X does not have valid feature names, but Ridge was fitted with feature names\n",
      "  warnings.warn(\n",
      "/Users/lannonkhau/opt/anaconda3/envs/Predicting_Restaurant_Robotic_Integration/lib/python3.8/site-packages/sklearn/base.py:464: UserWarning: X does not have valid feature names, but Ridge was fitted with feature names\n",
      "  warnings.warn(\n",
      "/Users/lannonkhau/opt/anaconda3/envs/Predicting_Restaurant_Robotic_Integration/lib/python3.8/site-packages/sklearn/base.py:464: UserWarning: X does not have valid feature names, but Ridge was fitted with feature names\n",
      "  warnings.warn(\n"
     ]
    }
   ],
   "source": [
    "import joblib\n",
    "\n",
    "# Load the model from the file\n",
    "model = joblib.load('exoplanet_model.pkl')\n",
    "\n",
    "# Sample data for prediction (replace this with your actual data)\n",
    "sample_data = [\n",
    "    # [orbital_period, orbital_radius, eccentricity, ...]\n",
    "    [3030, 1222.2, 33.5, 555.0, 232.0, 34.5,656.02]\n",
    "]\n",
    "\n",
    "# Use the model to make predictions\n",
    "predictions = model.predict(sample_data)\n",
    "\n",
    "print(\"Predicted values:\", predictions)\n"
   ]
  },
  {
   "cell_type": "markdown",
   "source": [
    " you're essentially creating a dynamic tool that can simulate and explore a wide range of hypothetical exoplanet scenarios."
   ],
   "metadata": {
    "collapsed": false
   }
  },
  {
   "cell_type": "markdown",
   "source": [
    "Data-Driven Exploration: Users can experiment with different combinations of factors to create unique exoplanet scenarios. This allows for creative exploration and insight into how changes in one characteristic impact other aspects of habitability.\n",
    "\n",
    "Informative Visualization: The dynamically generated exoplanet data can be visualized in a user-friendly way, helping users understand the complexities of habitability and planetary conditions.\n",
    "\n",
    "Educational Platform: Your website can serve as an educational platform that bridges the gap between scientific research and public understanding. Users can gain insights into the factors that contribute to habitability and the challenges of identifying habitable exoplanets.\n",
    "\n",
    "Innovative Storytelling: You can use the data-driven insights to create engaging narratives and stories set on these simulated exoplanets. This adds a layer of depth to the experience and encourages users to imagine life on different worlds.\n",
    "\n",
    "Expanded Game Mechanics: For the future game you mentioned, this dynamic tool can serve as a source of realistic and data-driven content for players to explore, conquer challenges, and strategize in their pursuit of habitable worlds.\n",
    "\n",
    "Scientific Hypotheses: Researchers and educators can use the tool to develop and test hypotheses about the potential habitability of exoplanets, fostering collaboration and scientific engagement.\n",
    "\n",
    "Inspiring New Discoveries: Users may draw inspiration from the simulated scenarios, potentially leading to creative insights or innovative ideas in the realm of exoplanet research."
   ],
   "metadata": {
    "collapsed": false
   }
  },
  {
   "cell_type": "code",
   "execution_count": null,
   "outputs": [],
   "source": [],
   "metadata": {
    "collapsed": false
   }
  }
 ],
 "metadata": {
  "kernelspec": {
   "display_name": "Python 3",
   "language": "python",
   "name": "python3"
  },
  "language_info": {
   "codemirror_mode": {
    "name": "ipython",
    "version": 2
   },
   "file_extension": ".py",
   "mimetype": "text/x-python",
   "name": "python",
   "nbconvert_exporter": "python",
   "pygments_lexer": "ipython2",
   "version": "2.7.6"
  }
 },
 "nbformat": 4,
 "nbformat_minor": 0
}
