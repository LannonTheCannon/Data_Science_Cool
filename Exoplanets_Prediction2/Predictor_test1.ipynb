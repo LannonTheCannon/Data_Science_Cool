{
 "cells": [
  {
   "cell_type": "markdown",
   "source": [
    "Exoplanets_Predictive_Test_01"
   ],
   "metadata": {
    "collapsed": false
   }
  },
  {
   "cell_type": "code",
   "execution_count": 29,
   "outputs": [
    {
     "name": "stdout",
     "output_type": "stream",
     "text": [
      "\n",
      "Predicted Habitability Score: 0.1069\n"
     ]
    },
    {
     "name": "stderr",
     "output_type": "stream",
     "text": [
      "/Users/lannonkhau/opt/anaconda3/envs/Predicting_Restaurant_Robotic_Integration/lib/python3.8/site-packages/sklearn/base.py:464: UserWarning: X does not have valid feature names, but RandomForestRegressor was fitted with feature names\n",
      "  warnings.warn(\n"
     ]
    }
   ],
   "source": [
    "import pickle\n",
    "\n",
    "# Load the trained Random Forest Regressor model from the .pkl file\n",
    "with open('random_forest_regressor.pkl', 'rb') as file:\n",
    "    model = pickle.load(file)\n",
    "\n",
    "medians = {\n",
    "    'distance': 1371.0,\n",
    "    'stellar_magnitude': 0.2897,\n",
    "    'discovery_year': 2016.0,\n",
    "    'mass_multiplier': 0.00552,\n",
    "    'radius_multiplier': 0.1373,\n",
    "    'orbital_radius': 1.31095e-05,\n",
    "    'orbital_period': 3.10732e-08,\n",
    "    'eccentricity': 0.0,\n",
    "    'habitability_score': 0.0843,\n",
    "    'planet_type_Neptune-like': 0,\n",
    "    'planet_type_Super Earth': 0,\n",
    "    'planet_type_Terrestrial': 0,\n",
    "    'planet_type_Unknown': 0,\n",
    "    'mass_wrt_Jupiter': 0.0,\n",
    "    'radius_wrt_Jupiter': 1.0,\n",
    "    'detection_method_Direct Imaging': 0,\n",
    "    'detection_method_Disk Kinematics': 0,\n",
    "    'detection_method_Eclipse Timing Variations': 0,\n",
    "    'detection_method_Gravitational Microlensing': 0,\n",
    "    'detection_method_Orbital Brightness Modulation': 0,\n",
    "    'detection_method_Pulsar Timing': 0,\n",
    "    'detection_method_Pulsation Timing Variations': 0,\n",
    "    'detection_method_Radial Velocity': 0,\n",
    "    'detection_method_Transit': 1,\n",
    "    'detection_method_Transit Timing Variations': 0,\n",
    "    'is_potentially_habitable': 0.0\n",
    "}\n",
    "\n",
    "def get_input():\n",
    "    # Prompt the user to input values for the five key features\n",
    "    mass_multiplier = float(input(\"Enter the mass multiplier of the exoplanet: \"))\n",
    "    radius_multiplier = float(input(\"Enter the radius multiplier of the exoplanet: \"))\n",
    "    orbital_radius = float(input(\"Enter the orbital radius of the exoplanet: \"))\n",
    "    orbital_period = float(input(\"Enter the orbital period of the exoplanet: \"))\n",
    "    stellar_magnitude = float(input(\"Enter the stellar magnitude of the exoplanet's star: \"))\n",
    "\n",
    "    # Update the medians dictionary with user inputs\n",
    "    medians['mass_multiplier'] = mass_multiplier\n",
    "    medians['radius_multiplier'] = radius_multiplier\n",
    "    medians['orbital_radius'] = orbital_radius\n",
    "    medians['orbital_period'] = orbital_period\n",
    "    medians['stellar_magnitude'] = stellar_magnitude\n",
    "\n",
    "    # Use the user-provided values and the median values to create a complete feature set\n",
    "    # Use the user-provided values and the median values to create a complete feature set\n",
    "    inputs = [\n",
    "        medians['distance'],\n",
    "        medians['stellar_magnitude'],\n",
    "        medians['discovery_year'],\n",
    "        medians['mass_multiplier'],\n",
    "        medians['radius_multiplier'],\n",
    "        medians['orbital_radius'],\n",
    "        medians['orbital_period'],\n",
    "        medians['eccentricity'],\n",
    "        medians['planet_type_Neptune-like'],\n",
    "        medians['planet_type_Super Earth'],\n",
    "        medians['planet_type_Terrestrial'],\n",
    "        medians['planet_type_Unknown'],\n",
    "        medians['mass_wrt_Jupiter'],\n",
    "        medians['radius_wrt_Jupiter'],\n",
    "        medians['detection_method_Direct Imaging'],\n",
    "        medians['detection_method_Disk Kinematics'],\n",
    "        medians['detection_method_Eclipse Timing Variations'],\n",
    "        medians['detection_method_Gravitational Microlensing'],\n",
    "        medians['detection_method_Orbital Brightness Modulation'],\n",
    "        medians['detection_method_Pulsar Timing'],\n",
    "        medians['detection_method_Pulsation Timing Variations'],\n",
    "        medians['detection_method_Radial Velocity'],\n",
    "        medians['detection_method_Transit'],\n",
    "        medians['detection_method_Transit Timing Variations']\n",
    "    ]\n",
    "\n",
    "    return inputs\n",
    "\n",
    "def predict_habitability(inputs):\n",
    "    # Use the model to predict the habitability score\n",
    "    score = model.predict([inputs])[0]\n",
    "    return score\n",
    "\n",
    "if __name__ == \"__main__\":\n",
    "    user_inputs = get_input()\n",
    "    prediction = predict_habitability(user_inputs)\n",
    "    print(f\"\\nPredicted Habitability Score: {prediction:.4f}\")\n"
   ],
   "metadata": {
    "collapsed": false
   }
  },
  {
   "cell_type": "markdown",
   "source": [
    "\n",
    "2### Exoplanet Habitability Prediction: A Summary Report\n",
    "\n",
    "### Objective:\n",
    "\n",
    "#### To build a predictive machine learning model that can estimate the habitability score of an exoplanet based on its key features.\n",
    "\n",
    "1. Data Loading:\n",
    "Loaded the provided dataset containing information about various exoplanets.\n",
    "\n",
    "2. Exploratory Data Analysis (EDA):\n",
    "Explored the first few rows of the dataset to understand its structure.\n",
    "Visualized the distribution of several categorical and numerical features.\n",
    "Checked for missing values and outliers in the dataset.\n",
    "\n",
    "3. Feature Importance and Selection:\n",
    "Identified intuitive features that might impact the habitability of an exoplanet, including mass, radius, orbital radius, and stellar magnitude.\n",
    "Decided to create a habitability_score that encapsulates the data from various columns to predict habitability.\n",
    "\n",
    "4. Data Preprocessing:\n",
    "Handled missing values by imputing them using median values.\n",
    "Created the habitability_score by summing up normalized values of several columns.\n",
    "Encoded categorical features using one-hot encoding.\n",
    "Split the data into training and testing sets.\n",
    "\n",
    "5. Model Selection, Training, and Evaluation:\n",
    "Chose the Random Forest Regressor due to its ability to handle both linear and non-linear relationships.\n",
    "Trained the model on the training data.\n",
    "Evaluated the model's performance on the test set.\n",
    "\n",
    "6. Model Usage:\n",
    "Created a user-friendly script that allows users to input values for five key features of an exoplanet. The model then predicts the habitability score based on these inputs.\n",
    "\n",
    "7. Optimization:\n",
    "Conducted a grid search over the feature space to heuristically find the combination of feature values that might yield the highest habitability score.\n",
    "\n",
    "Conclusion:\n",
    "We successfully built a machine learning model that predicts the habitability score of an exoplanet based on its features. While finding the exact values for the highest score is challenging, the model offers valuable insights into the factors that might influence an exoplanet's habitability. It serves as a foundational tool that can be further refined and expanded upon for more specific or advanced applications.\n",
    "\n"
   ],
   "metadata": {
    "collapsed": false
   }
  },
  {
   "cell_type": "markdown",
   "source": [
    "Insights from Our Current Model:\n",
    "Based on the model we've built so far:\n",
    "\n",
    "We can tell how close or far away a planet is from its star, which can hint at whether it's too hot, too cold, or just right.\n",
    "We can estimate how big a planet is. Big planets might have stronger gravity, which can affect how things feel and move.\n",
    "We can guess if the planet has a wobbly orbit (like a spinning top that doesn't spin straight). This can tell us about the planet's seasons and climate.\n",
    "We can also make educated guesses about other factors that can hint at whether life as we know it might survive there."
   ],
   "metadata": {
    "collapsed": false
   }
  },
  {
   "cell_type": "markdown",
   "source": [
    "distance: Distance from its star, which affects temperature.\n",
    "orbital_radius: Another measure of distance from its star.\n",
    "eccentricity: How \"wobbly\" or \"oval-shaped\" its orbit is.\n",
    "actual_mass: How heavy the planet is.\n",
    "actual_radius: How big the planet is."
   ],
   "metadata": {
    "collapsed": false
   }
  },
  {
   "cell_type": "code",
   "execution_count": null,
   "outputs": [],
   "source": [],
   "metadata": {
    "collapsed": false
   }
  }
 ],
 "metadata": {
  "kernelspec": {
   "display_name": "Python 3",
   "language": "python",
   "name": "python3"
  },
  "language_info": {
   "codemirror_mode": {
    "name": "ipython",
    "version": 2
   },
   "file_extension": ".py",
   "mimetype": "text/x-python",
   "name": "python",
   "nbconvert_exporter": "python",
   "pygments_lexer": "ipython2",
   "version": "2.7.6"
  }
 },
 "nbformat": 4,
 "nbformat_minor": 0
}
