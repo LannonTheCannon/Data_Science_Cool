{
 "cells": [
  {
   "cell_type": "code",
   "execution_count": 3,
   "metadata": {
    "collapsed": true
   },
   "outputs": [
    {
     "data": {
      "text/plain": "                   name  distance  stellar_magnitude planet_type  \\\n0  11 Comae Berenices b     304.0            4.72307   Gas Giant   \n1    11 Ursae Minoris b     409.0            5.01300   Gas Giant   \n2       14 Andromedae b     246.0            5.23133   Gas Giant   \n3         14 Herculis b      58.0            6.61935   Gas Giant   \n4          16 Cygni B b      69.0            6.21500   Gas Giant   \n\n   discovery_year  mass_multiplier mass_wrt  radius_multiplier radius_wrt  \\\n0            2007         19.40000  Jupiter               1.08    Jupiter   \n1            2009         14.74000  Jupiter               1.09    Jupiter   \n2            2008          4.80000  Jupiter               1.15    Jupiter   \n3            2002          8.13881  Jupiter               1.12    Jupiter   \n4            1996          1.78000  Jupiter               1.20    Jupiter   \n\n   orbital_radius  orbital_period  eccentricity detection_method  \n0        1.290000        0.892539          0.23  Radial Velocity  \n1        1.530000        1.400000          0.08  Radial Velocity  \n2        0.830000        0.508693          0.00  Radial Velocity  \n3        2.773069        4.800000          0.37  Radial Velocity  \n4        1.660000        2.200000          0.68  Radial Velocity  ",
      "text/html": "<div>\n<style scoped>\n    .dataframe tbody tr th:only-of-type {\n        vertical-align: middle;\n    }\n\n    .dataframe tbody tr th {\n        vertical-align: top;\n    }\n\n    .dataframe thead th {\n        text-align: right;\n    }\n</style>\n<table border=\"1\" class=\"dataframe\">\n  <thead>\n    <tr style=\"text-align: right;\">\n      <th></th>\n      <th>name</th>\n      <th>distance</th>\n      <th>stellar_magnitude</th>\n      <th>planet_type</th>\n      <th>discovery_year</th>\n      <th>mass_multiplier</th>\n      <th>mass_wrt</th>\n      <th>radius_multiplier</th>\n      <th>radius_wrt</th>\n      <th>orbital_radius</th>\n      <th>orbital_period</th>\n      <th>eccentricity</th>\n      <th>detection_method</th>\n    </tr>\n  </thead>\n  <tbody>\n    <tr>\n      <th>0</th>\n      <td>11 Comae Berenices b</td>\n      <td>304.0</td>\n      <td>4.72307</td>\n      <td>Gas Giant</td>\n      <td>2007</td>\n      <td>19.40000</td>\n      <td>Jupiter</td>\n      <td>1.08</td>\n      <td>Jupiter</td>\n      <td>1.290000</td>\n      <td>0.892539</td>\n      <td>0.23</td>\n      <td>Radial Velocity</td>\n    </tr>\n    <tr>\n      <th>1</th>\n      <td>11 Ursae Minoris b</td>\n      <td>409.0</td>\n      <td>5.01300</td>\n      <td>Gas Giant</td>\n      <td>2009</td>\n      <td>14.74000</td>\n      <td>Jupiter</td>\n      <td>1.09</td>\n      <td>Jupiter</td>\n      <td>1.530000</td>\n      <td>1.400000</td>\n      <td>0.08</td>\n      <td>Radial Velocity</td>\n    </tr>\n    <tr>\n      <th>2</th>\n      <td>14 Andromedae b</td>\n      <td>246.0</td>\n      <td>5.23133</td>\n      <td>Gas Giant</td>\n      <td>2008</td>\n      <td>4.80000</td>\n      <td>Jupiter</td>\n      <td>1.15</td>\n      <td>Jupiter</td>\n      <td>0.830000</td>\n      <td>0.508693</td>\n      <td>0.00</td>\n      <td>Radial Velocity</td>\n    </tr>\n    <tr>\n      <th>3</th>\n      <td>14 Herculis b</td>\n      <td>58.0</td>\n      <td>6.61935</td>\n      <td>Gas Giant</td>\n      <td>2002</td>\n      <td>8.13881</td>\n      <td>Jupiter</td>\n      <td>1.12</td>\n      <td>Jupiter</td>\n      <td>2.773069</td>\n      <td>4.800000</td>\n      <td>0.37</td>\n      <td>Radial Velocity</td>\n    </tr>\n    <tr>\n      <th>4</th>\n      <td>16 Cygni B b</td>\n      <td>69.0</td>\n      <td>6.21500</td>\n      <td>Gas Giant</td>\n      <td>1996</td>\n      <td>1.78000</td>\n      <td>Jupiter</td>\n      <td>1.20</td>\n      <td>Jupiter</td>\n      <td>1.660000</td>\n      <td>2.200000</td>\n      <td>0.68</td>\n      <td>Radial Velocity</td>\n    </tr>\n  </tbody>\n</table>\n</div>"
     },
     "execution_count": 3,
     "metadata": {},
     "output_type": "execute_result"
    }
   ],
   "source": [
    "import pandas as pd\n",
    "\n",
    "# Load the dataset\n",
    "exoplanet_data = pd.read_csv(\"../data/cleaned_5250.csv\")\n",
    "\n",
    "# Display the first few rows of the dataset to understand its structure\n",
    "exoplanet_data.head()\n"
   ]
  },
  {
   "cell_type": "markdown",
   "source": [
    "1. name: Name of the exoplanet.\n",
    "2. distance: Distance of the exoplanet (unit not specified, but typically in light-years or parsecs).\n",
    "3. stellar_magnitude: Apparent magnitude of the star the exoplanet orbits.\n",
    "4. planet_type: Type of the exoplanet (e.g., Gas Giant).\n",
    "5. discovery_year: Year the exoplanet was discovered.\n",
    "6. mass_multiplier: The multiplier to convert the planet's mass to a standard reference (e.g., Jupiter's mass).\n",
    "7. mass_wrt: The reference to which the mass is compared (e.g., Jupiter).\n",
    "8. radius_multiplier: The multiplier to convert the planet's radius to a standard reference (e.g., Jupiter's radius).\n",
    "9. radius_wrt: The reference to which the radius is compared (e.g., Jupiter).\n",
    "10. orbital_radius: Orbital radius of the exoplanet (unit not specified, but typically in astronomical units or AU).\n",
    "11. orbital_period: Orbital period of the exoplanet (unit not specified, but could be in days or years).\n",
    "12. eccentricity: The eccentricity of the exoplanet's orbit (ranges from 0 for circular orbits to close to 1 for highly elongated orbits).\n",
    "13. detection_method: Method used to detect the exoplanet (e.g., Radial Velocity).\n"
   ],
   "metadata": {
    "collapsed": false
   }
  },
  {
   "cell_type": "code",
   "execution_count": null,
   "outputs": [],
   "source": [],
   "metadata": {
    "collapsed": false
   }
  }
 ],
 "metadata": {
  "kernelspec": {
   "display_name": "Python 3",
   "language": "python",
   "name": "python3"
  },
  "language_info": {
   "codemirror_mode": {
    "name": "ipython",
    "version": 2
   },
   "file_extension": ".py",
   "mimetype": "text/x-python",
   "name": "python",
   "nbconvert_exporter": "python",
   "pygments_lexer": "ipython2",
   "version": "2.7.6"
  }
 },
 "nbformat": 4,
 "nbformat_minor": 0
}
