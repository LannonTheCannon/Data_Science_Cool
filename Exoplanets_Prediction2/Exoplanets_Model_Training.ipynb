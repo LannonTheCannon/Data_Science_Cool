{
 "cells": [
  {
   "cell_type": "markdown",
   "source": [
    "1. name: Name of the exoplanet.\n",
    "2. distance: Distance of the exoplanet (unit not specified, but typically in light-years or parsecs).\n",
    "3. stellar_magnitude: Apparent magnitude of the star the exoplanet orbits.\n",
    "4. planet_type: Type of the exoplanet (e.g., Gas Giant).\n",
    "5. discovery_year: Year the exoplanet was discovered.\n",
    "6. mass_multiplier: The multiplier to convert the planet's mass to a standard reference (e.g., Jupiter's mass).\n",
    "7. mass_wrt: The reference to which the mass is compared (e.g., Jupiter).\n",
    "8. radius_multiplier: The multiplier to convert the planet's radius to a standard reference (e.g., Jupiter's radius).\n",
    "9. radius_wrt: The reference to which the radius is compared (e.g., Jupiter).\n",
    "10. orbital_radius: Orbital radius of the exoplanet (unit not specified, but typically in astronomical units or AU).\n",
    "11. orbital_period: Orbital period of the exoplanet (unit not specified, but could be in days or years).\n",
    "12. eccentricity: The eccentricity of the exoplanet's orbit (ranges from 0 for circular orbits to close to 1 for highly elongated orbits).\n",
    "13. detection_method: Method used to detect the exoplanet (e.g., Radial Velocity).\n"
   ],
   "metadata": {
    "collapsed": false
   }
  },
  {
   "cell_type": "code",
   "execution_count": null,
   "outputs": [],
   "source": [],
   "metadata": {
    "collapsed": false
   }
  }
 ],
 "metadata": {
  "kernelspec": {
   "display_name": "Python 3",
   "language": "python",
   "name": "python3"
  },
  "language_info": {
   "codemirror_mode": {
    "name": "ipython",
    "version": 2
   },
   "file_extension": ".py",
   "mimetype": "text/x-python",
   "name": "python",
   "nbconvert_exporter": "python",
   "pygments_lexer": "ipython2",
   "version": "2.7.6"
  }
 },
 "nbformat": 4,
 "nbformat_minor": 0
}
