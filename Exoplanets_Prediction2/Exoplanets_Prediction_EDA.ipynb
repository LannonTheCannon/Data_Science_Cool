{
 "cells": [
  {
   "cell_type": "markdown",
   "source": [
    "# Exoplanets Prediction Exploratory Data Analysis"
   ],
   "metadata": {
    "collapsed": false
   },
   "execution_count": 1
  },
  {
   "cell_type": "markdown",
   "source": [
    "## Table of Contents\n",
    "1. Load The Data\n",
    "\n",
    "2. Data Overview\n",
    "\n",
    "3. Handling Missing Values\n",
    "\n",
    "4. Data Visualizations\n",
    "\n",
    "5. Feature Engineering\n",
    "\n",
    "6. Outlier Detection\n",
    "\n",
    "7. Feature Selection\n",
    "\n",
    "8. Data Splitting\n",
    "\n",
    "9. Model Selection\n",
    "\n",
    "10. Model Training\n",
    "\n",
    "11. Model Deployment\n",
    "\n",
    "12. Continuous Monitoring"
   ],
   "metadata": {
    "collapsed": false
   }
  },
  {
   "cell_type": "markdown",
   "source": [
    "## 1.0 Load The Data"
   ],
   "metadata": {
    "collapsed": false
   }
  },
  {
   "cell_type": "markdown",
   "source": [
    "## 2.0 Data Overview"
   ],
   "metadata": {
    "collapsed": false
   }
  },
  {
   "cell_type": "code",
   "execution_count": null,
   "outputs": [],
   "source": [],
   "metadata": {
    "collapsed": false
   }
  }
 ],
 "metadata": {
  "kernelspec": {
   "display_name": "Python 3",
   "language": "python",
   "name": "python3"
  },
  "language_info": {
   "codemirror_mode": {
    "name": "ipython",
    "version": 2
   },
   "file_extension": ".py",
   "mimetype": "text/x-python",
   "name": "python",
   "nbconvert_exporter": "python",
   "pygments_lexer": "ipython2",
   "version": "2.7.6"
  }
 },
 "nbformat": 4,
 "nbformat_minor": 0
}
