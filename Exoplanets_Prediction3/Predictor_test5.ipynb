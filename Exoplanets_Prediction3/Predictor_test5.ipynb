{
 "cells": [
  {
   "cell_type": "code",
   "execution_count": null,
   "metadata": {
    "collapsed": true
   },
   "outputs": [],
   "source": []
  },
  {
   "cell_type": "code",
   "execution_count": 18,
   "outputs": [],
   "source": [
    "import pandas as pd\n",
    "\n",
    "# Load your dataset into a DataFrame (replace 'your_dataset.csv' with your actual file)\n",
    "data = pd.read_csv('../data/final_cleaned_exoplanet_data.csv')\n",
    "\n",
    "# List of columns to drop\n",
    "columns_to_drop = ['atmospheric_retention_potential', 'potential_for_liquid_water', 'geological_activity_potential',\n",
    "                   'planetary_composition_hypothesis_v2',\n",
    "                   'planetary_composition_hypothesis_v3',\n",
    "                   'planetary_composition_hypothesis_v4',\n",
    "                   'planetary_composition_hypothesis_v5',]\n",
    "\n",
    "\n",
    "# Drop the specified columns\n",
    "data = data.drop(columns=columns_to_drop, axis=1)\n",
    "\n",
    "# Now 'data' DataFrame will not contain the dropped columns\n"
   ],
   "metadata": {
    "collapsed": false
   }
  },
  {
   "cell_type": "code",
   "execution_count": 19,
   "outputs": [
    {
     "data": {
      "text/plain": "                   name  distance  stellar_magnitude planet_type  \\\n0  11 Comae Berenices b     304.0            4.72307   Gas Giant   \n1    11 Ursae Minoris b     409.0            5.01300   Gas Giant   \n2       14 Andromedae b     246.0            5.23133   Gas Giant   \n3         14 Herculis b      58.0            6.61935   Gas Giant   \n4          16 Cygni B b      69.0            6.21500   Gas Giant   \n\n   discovery_year  mass_multiplier      mass_wrt  radius_multiplier  \\\n0            2007         19.40000  1.898000e+27               1.08   \n1            2009         14.74000  1.898000e+27               1.09   \n2            2008          4.80000  1.898000e+27               1.15   \n3            2002          8.13881  1.898000e+27               1.12   \n4            1996          1.78000  1.898000e+27               1.20   \n\n   radius_wrt  orbital_radius  ...  planet_gravity  climate_stability  \\\n0     71492.0        1.290000  ...    4.122130e+08            Unknown   \n1     71492.0        1.530000  ...    3.074766e+08            Unknown   \n2     71492.0        0.830000  ...    8.995247e+07            Unknown   \n3     71492.0        2.773069  ...    1.608023e+08                Low   \n4     71492.0        1.660000  ...    3.063550e+07            Unknown   \n\n  possibility_of_moon  planetary_composition_hypothesis  atmospheric_density  \\\n0                High                           Unknown               Medium   \n1                High                           Unknown               Medium   \n2                High                           Unknown               Medium   \n3                High                           Unknown               Medium   \n4                High                           Unknown               Medium   \n\n   normalized_stellar_magnitude  normalized_orbital_radius  \\\n0                      0.088049                   0.999829   \n1                      0.094677                   0.999797   \n2                      0.099669                   0.999890   \n3                      0.131404                   0.999631   \n4                      0.122159                   0.999779   \n\n   energy_receipt_score planetary_energy_receipt  \\\n0              1.087877            Extremely Low   \n1              1.094474            Extremely Low   \n2              1.099559            Extremely Low   \n3              1.131035            Extremely Low   \n4              1.121939            Extremely Low   \n\n  combined_planetary_composition_hypothesis  \n0                                Iron World  \n1                                Iron World  \n2                                Iron World  \n3                                Iron World  \n4                              Shadow World  \n\n[5 rows x 37 columns]",
      "text/html": "<div>\n<style scoped>\n    .dataframe tbody tr th:only-of-type {\n        vertical-align: middle;\n    }\n\n    .dataframe tbody tr th {\n        vertical-align: top;\n    }\n\n    .dataframe thead th {\n        text-align: right;\n    }\n</style>\n<table border=\"1\" class=\"dataframe\">\n  <thead>\n    <tr style=\"text-align: right;\">\n      <th></th>\n      <th>name</th>\n      <th>distance</th>\n      <th>stellar_magnitude</th>\n      <th>planet_type</th>\n      <th>discovery_year</th>\n      <th>mass_multiplier</th>\n      <th>mass_wrt</th>\n      <th>radius_multiplier</th>\n      <th>radius_wrt</th>\n      <th>orbital_radius</th>\n      <th>...</th>\n      <th>planet_gravity</th>\n      <th>climate_stability</th>\n      <th>possibility_of_moon</th>\n      <th>planetary_composition_hypothesis</th>\n      <th>atmospheric_density</th>\n      <th>normalized_stellar_magnitude</th>\n      <th>normalized_orbital_radius</th>\n      <th>energy_receipt_score</th>\n      <th>planetary_energy_receipt</th>\n      <th>combined_planetary_composition_hypothesis</th>\n    </tr>\n  </thead>\n  <tbody>\n    <tr>\n      <th>0</th>\n      <td>11 Comae Berenices b</td>\n      <td>304.0</td>\n      <td>4.72307</td>\n      <td>Gas Giant</td>\n      <td>2007</td>\n      <td>19.40000</td>\n      <td>1.898000e+27</td>\n      <td>1.08</td>\n      <td>71492.0</td>\n      <td>1.290000</td>\n      <td>...</td>\n      <td>4.122130e+08</td>\n      <td>Unknown</td>\n      <td>High</td>\n      <td>Unknown</td>\n      <td>Medium</td>\n      <td>0.088049</td>\n      <td>0.999829</td>\n      <td>1.087877</td>\n      <td>Extremely Low</td>\n      <td>Iron World</td>\n    </tr>\n    <tr>\n      <th>1</th>\n      <td>11 Ursae Minoris b</td>\n      <td>409.0</td>\n      <td>5.01300</td>\n      <td>Gas Giant</td>\n      <td>2009</td>\n      <td>14.74000</td>\n      <td>1.898000e+27</td>\n      <td>1.09</td>\n      <td>71492.0</td>\n      <td>1.530000</td>\n      <td>...</td>\n      <td>3.074766e+08</td>\n      <td>Unknown</td>\n      <td>High</td>\n      <td>Unknown</td>\n      <td>Medium</td>\n      <td>0.094677</td>\n      <td>0.999797</td>\n      <td>1.094474</td>\n      <td>Extremely Low</td>\n      <td>Iron World</td>\n    </tr>\n    <tr>\n      <th>2</th>\n      <td>14 Andromedae b</td>\n      <td>246.0</td>\n      <td>5.23133</td>\n      <td>Gas Giant</td>\n      <td>2008</td>\n      <td>4.80000</td>\n      <td>1.898000e+27</td>\n      <td>1.15</td>\n      <td>71492.0</td>\n      <td>0.830000</td>\n      <td>...</td>\n      <td>8.995247e+07</td>\n      <td>Unknown</td>\n      <td>High</td>\n      <td>Unknown</td>\n      <td>Medium</td>\n      <td>0.099669</td>\n      <td>0.999890</td>\n      <td>1.099559</td>\n      <td>Extremely Low</td>\n      <td>Iron World</td>\n    </tr>\n    <tr>\n      <th>3</th>\n      <td>14 Herculis b</td>\n      <td>58.0</td>\n      <td>6.61935</td>\n      <td>Gas Giant</td>\n      <td>2002</td>\n      <td>8.13881</td>\n      <td>1.898000e+27</td>\n      <td>1.12</td>\n      <td>71492.0</td>\n      <td>2.773069</td>\n      <td>...</td>\n      <td>1.608023e+08</td>\n      <td>Low</td>\n      <td>High</td>\n      <td>Unknown</td>\n      <td>Medium</td>\n      <td>0.131404</td>\n      <td>0.999631</td>\n      <td>1.131035</td>\n      <td>Extremely Low</td>\n      <td>Iron World</td>\n    </tr>\n    <tr>\n      <th>4</th>\n      <td>16 Cygni B b</td>\n      <td>69.0</td>\n      <td>6.21500</td>\n      <td>Gas Giant</td>\n      <td>1996</td>\n      <td>1.78000</td>\n      <td>1.898000e+27</td>\n      <td>1.20</td>\n      <td>71492.0</td>\n      <td>1.660000</td>\n      <td>...</td>\n      <td>3.063550e+07</td>\n      <td>Unknown</td>\n      <td>High</td>\n      <td>Unknown</td>\n      <td>Medium</td>\n      <td>0.122159</td>\n      <td>0.999779</td>\n      <td>1.121939</td>\n      <td>Extremely Low</td>\n      <td>Shadow World</td>\n    </tr>\n  </tbody>\n</table>\n<p>5 rows × 37 columns</p>\n</div>"
     },
     "execution_count": 19,
     "metadata": {},
     "output_type": "execute_result"
    }
   ],
   "source": [
    "data.head()"
   ],
   "metadata": {
    "collapsed": false
   }
  },
  {
   "cell_type": "code",
   "execution_count": 20,
   "outputs": [
    {
     "data": {
      "text/plain": "           distance  stellar_magnitude  discovery_year  mass_multiplier  \\\ncount   5250.000000        5250.000000     5250.000000      5250.000000   \nmean    2164.590667          12.710089     2015.732190         6.424891   \nstd     3240.577918           3.063127        4.307336        12.945138   \nmin        4.000000           0.872000     1992.000000         0.020000   \n25%      396.000000          11.098000     2014.000000         1.810000   \n50%     1371.000000          13.543000     2016.000000         4.170140   \n75%     2773.750000          14.983000     2018.000000         8.000000   \nmax    27727.000000          44.610000     2023.000000       752.000000   \n\n           mass_wrt  radius_multiplier    radius_wrt  orbital_radius  \\\ncount  5.250000e+03        5250.000000   5250.000000     5250.000000   \nmean   5.973659e+26           1.015461  47639.108000        6.585308   \nstd    8.771166e+26           0.602530  31377.559764      134.811084   \nmin    5.972000e+24           0.200000   6371.000000        0.004400   \n25%    5.972000e+24           0.325000   6371.000000        0.055000   \n50%    5.972000e+24           1.120000  71492.000000        0.102800   \n75%    1.898000e+27           1.410000  71492.000000        0.255900   \nmax    1.898000e+27           6.900000  71492.000000     7506.000000   \n\n       orbital_period  eccentricity  ...  star_planet_interaction  \\\ncount    5.250000e+03   5250.000000  ...              5250.000000   \nmean     4.791509e+02      0.063568  ...                70.713653   \nstd      1.680445e+04      0.141424  ...              1671.513984   \nmin      2.737851e-04     -0.520000  ...                 0.072086   \n25%      1.259411e-02      0.000000  ...                 0.574690   \n50%      3.449692e-02      0.000000  ...                 1.156680   \n75%      1.442163e-01      0.060000  ...                 2.864997   \nmax      1.101370e+06      0.950000  ...             84802.788000   \n\n       mass_multiplier_squared  radius_multiplier_squared  \\\ncount              5250.000000                5250.000000   \nmean                208.823911                   1.394134   \nstd                7826.097272                   1.449038   \nmin                   0.000400                   0.040000   \n25%                   3.276100                   0.105625   \n50%                  17.390068                   1.254400   \n75%                  64.000000                   1.988100   \nmax              565504.000000                  47.610000   \n\n       orbital_radius_squared  approximated_mass  approximated_radius  \\\ncount            5.250000e+03       5.250000e+03          5250.000000   \nmean             1.821393e+04       2.733955e+27         35852.196991   \nstd              8.115653e+05       2.240193e+28         33896.522379   \nmin              1.936000e-05       1.194400e+23          1885.816000   \n25%              3.025000e-03       2.370884e+25         11212.960000   \n50%              1.056784e-02       5.058284e+25         17444.048000   \n75%              6.548481e-02       9.271730e+26         74333.807000   \nmax              5.634004e+07       1.427296e+30        493294.800000   \n\n       planet_gravity  normalized_stellar_magnitude  \\\ncount    5.250000e+03                   5250.000000   \nmean     3.867496e+07                      0.270659   \nstd      1.426947e+08                      0.070034   \nmin      3.744260e+05                      0.000000   \n25%      1.004390e+07                      0.233801   \n50%      1.142898e+07                      0.289702   \n75%      1.447415e+07                      0.322626   \nmax      3.809581e+09                      1.000000   \n\n       normalized_orbital_radius  energy_receipt_score  \ncount                5250.000000           5250.000000  \nmean                    0.999123              1.271433  \nstd                     0.017960              0.071819  \nmin                     0.000000              0.238374  \n25%                     0.999966              1.239348  \n50%                     0.999987              1.291750  \n75%                     0.999993              1.321919  \nmax                     1.000000              1.999937  \n\n[8 rows x 21 columns]",
      "text/html": "<div>\n<style scoped>\n    .dataframe tbody tr th:only-of-type {\n        vertical-align: middle;\n    }\n\n    .dataframe tbody tr th {\n        vertical-align: top;\n    }\n\n    .dataframe thead th {\n        text-align: right;\n    }\n</style>\n<table border=\"1\" class=\"dataframe\">\n  <thead>\n    <tr style=\"text-align: right;\">\n      <th></th>\n      <th>distance</th>\n      <th>stellar_magnitude</th>\n      <th>discovery_year</th>\n      <th>mass_multiplier</th>\n      <th>mass_wrt</th>\n      <th>radius_multiplier</th>\n      <th>radius_wrt</th>\n      <th>orbital_radius</th>\n      <th>orbital_period</th>\n      <th>eccentricity</th>\n      <th>...</th>\n      <th>star_planet_interaction</th>\n      <th>mass_multiplier_squared</th>\n      <th>radius_multiplier_squared</th>\n      <th>orbital_radius_squared</th>\n      <th>approximated_mass</th>\n      <th>approximated_radius</th>\n      <th>planet_gravity</th>\n      <th>normalized_stellar_magnitude</th>\n      <th>normalized_orbital_radius</th>\n      <th>energy_receipt_score</th>\n    </tr>\n  </thead>\n  <tbody>\n    <tr>\n      <th>count</th>\n      <td>5250.000000</td>\n      <td>5250.000000</td>\n      <td>5250.000000</td>\n      <td>5250.000000</td>\n      <td>5.250000e+03</td>\n      <td>5250.000000</td>\n      <td>5250.000000</td>\n      <td>5250.000000</td>\n      <td>5.250000e+03</td>\n      <td>5250.000000</td>\n      <td>...</td>\n      <td>5250.000000</td>\n      <td>5250.000000</td>\n      <td>5250.000000</td>\n      <td>5.250000e+03</td>\n      <td>5.250000e+03</td>\n      <td>5250.000000</td>\n      <td>5.250000e+03</td>\n      <td>5250.000000</td>\n      <td>5250.000000</td>\n      <td>5250.000000</td>\n    </tr>\n    <tr>\n      <th>mean</th>\n      <td>2164.590667</td>\n      <td>12.710089</td>\n      <td>2015.732190</td>\n      <td>6.424891</td>\n      <td>5.973659e+26</td>\n      <td>1.015461</td>\n      <td>47639.108000</td>\n      <td>6.585308</td>\n      <td>4.791509e+02</td>\n      <td>0.063568</td>\n      <td>...</td>\n      <td>70.713653</td>\n      <td>208.823911</td>\n      <td>1.394134</td>\n      <td>1.821393e+04</td>\n      <td>2.733955e+27</td>\n      <td>35852.196991</td>\n      <td>3.867496e+07</td>\n      <td>0.270659</td>\n      <td>0.999123</td>\n      <td>1.271433</td>\n    </tr>\n    <tr>\n      <th>std</th>\n      <td>3240.577918</td>\n      <td>3.063127</td>\n      <td>4.307336</td>\n      <td>12.945138</td>\n      <td>8.771166e+26</td>\n      <td>0.602530</td>\n      <td>31377.559764</td>\n      <td>134.811084</td>\n      <td>1.680445e+04</td>\n      <td>0.141424</td>\n      <td>...</td>\n      <td>1671.513984</td>\n      <td>7826.097272</td>\n      <td>1.449038</td>\n      <td>8.115653e+05</td>\n      <td>2.240193e+28</td>\n      <td>33896.522379</td>\n      <td>1.426947e+08</td>\n      <td>0.070034</td>\n      <td>0.017960</td>\n      <td>0.071819</td>\n    </tr>\n    <tr>\n      <th>min</th>\n      <td>4.000000</td>\n      <td>0.872000</td>\n      <td>1992.000000</td>\n      <td>0.020000</td>\n      <td>5.972000e+24</td>\n      <td>0.200000</td>\n      <td>6371.000000</td>\n      <td>0.004400</td>\n      <td>2.737851e-04</td>\n      <td>-0.520000</td>\n      <td>...</td>\n      <td>0.072086</td>\n      <td>0.000400</td>\n      <td>0.040000</td>\n      <td>1.936000e-05</td>\n      <td>1.194400e+23</td>\n      <td>1885.816000</td>\n      <td>3.744260e+05</td>\n      <td>0.000000</td>\n      <td>0.000000</td>\n      <td>0.238374</td>\n    </tr>\n    <tr>\n      <th>25%</th>\n      <td>396.000000</td>\n      <td>11.098000</td>\n      <td>2014.000000</td>\n      <td>1.810000</td>\n      <td>5.972000e+24</td>\n      <td>0.325000</td>\n      <td>6371.000000</td>\n      <td>0.055000</td>\n      <td>1.259411e-02</td>\n      <td>0.000000</td>\n      <td>...</td>\n      <td>0.574690</td>\n      <td>3.276100</td>\n      <td>0.105625</td>\n      <td>3.025000e-03</td>\n      <td>2.370884e+25</td>\n      <td>11212.960000</td>\n      <td>1.004390e+07</td>\n      <td>0.233801</td>\n      <td>0.999966</td>\n      <td>1.239348</td>\n    </tr>\n    <tr>\n      <th>50%</th>\n      <td>1371.000000</td>\n      <td>13.543000</td>\n      <td>2016.000000</td>\n      <td>4.170140</td>\n      <td>5.972000e+24</td>\n      <td>1.120000</td>\n      <td>71492.000000</td>\n      <td>0.102800</td>\n      <td>3.449692e-02</td>\n      <td>0.000000</td>\n      <td>...</td>\n      <td>1.156680</td>\n      <td>17.390068</td>\n      <td>1.254400</td>\n      <td>1.056784e-02</td>\n      <td>5.058284e+25</td>\n      <td>17444.048000</td>\n      <td>1.142898e+07</td>\n      <td>0.289702</td>\n      <td>0.999987</td>\n      <td>1.291750</td>\n    </tr>\n    <tr>\n      <th>75%</th>\n      <td>2773.750000</td>\n      <td>14.983000</td>\n      <td>2018.000000</td>\n      <td>8.000000</td>\n      <td>1.898000e+27</td>\n      <td>1.410000</td>\n      <td>71492.000000</td>\n      <td>0.255900</td>\n      <td>1.442163e-01</td>\n      <td>0.060000</td>\n      <td>...</td>\n      <td>2.864997</td>\n      <td>64.000000</td>\n      <td>1.988100</td>\n      <td>6.548481e-02</td>\n      <td>9.271730e+26</td>\n      <td>74333.807000</td>\n      <td>1.447415e+07</td>\n      <td>0.322626</td>\n      <td>0.999993</td>\n      <td>1.321919</td>\n    </tr>\n    <tr>\n      <th>max</th>\n      <td>27727.000000</td>\n      <td>44.610000</td>\n      <td>2023.000000</td>\n      <td>752.000000</td>\n      <td>1.898000e+27</td>\n      <td>6.900000</td>\n      <td>71492.000000</td>\n      <td>7506.000000</td>\n      <td>1.101370e+06</td>\n      <td>0.950000</td>\n      <td>...</td>\n      <td>84802.788000</td>\n      <td>565504.000000</td>\n      <td>47.610000</td>\n      <td>5.634004e+07</td>\n      <td>1.427296e+30</td>\n      <td>493294.800000</td>\n      <td>3.809581e+09</td>\n      <td>1.000000</td>\n      <td>1.000000</td>\n      <td>1.999937</td>\n    </tr>\n  </tbody>\n</table>\n<p>8 rows × 21 columns</p>\n</div>"
     },
     "execution_count": 20,
     "metadata": {},
     "output_type": "execute_result"
    }
   ],
   "source": [
    "data.describe()"
   ],
   "metadata": {
    "collapsed": false
   }
  },
  {
   "cell_type": "code",
   "execution_count": 21,
   "outputs": [
    {
     "name": "stdout",
     "output_type": "stream",
     "text": [
      "Index(['name', 'distance', 'stellar_magnitude', 'planet_type',\n",
      "       'discovery_year', 'mass_multiplier', 'mass_wrt', 'radius_multiplier',\n",
      "       'radius_wrt', 'orbital_radius', 'orbital_period', 'eccentricity',\n",
      "       'detection_method', 'size_score', 'star_planet_interaction',\n",
      "       'mass_multiplier_squared', 'radius_multiplier_squared',\n",
      "       'orbital_radius_squared', 'orbital_radius_bin', 'expanded_planet_type',\n",
      "       'habitable_zone', 'planet_surface_temperature', 'atmospheric_pressure',\n",
      "       'biosignature_potential', 'radiation_exposure', 'approximated_mass',\n",
      "       'approximated_radius', 'planet_gravity', 'climate_stability',\n",
      "       'possibility_of_moon', 'planetary_composition_hypothesis',\n",
      "       'atmospheric_density', 'normalized_stellar_magnitude',\n",
      "       'normalized_orbital_radius', 'energy_receipt_score',\n",
      "       'planetary_energy_receipt',\n",
      "       'combined_planetary_composition_hypothesis'],\n",
      "      dtype='object')\n"
     ]
    }
   ],
   "source": [
    "print(data.columns)"
   ],
   "metadata": {
    "collapsed": false
   }
  },
  {
   "cell_type": "code",
   "execution_count": 23,
   "outputs": [],
   "source": [],
   "metadata": {
    "collapsed": false
   }
  },
  {
   "cell_type": "code",
   "execution_count": 25,
   "outputs": [],
   "source": [
    "import pandas as pd\n",
    "import json\n",
    "\n",
    "# Load your dataset into a DataFrame (replace 'your_dataset.csv' with your actual file)\n",
    "data = pd.read_csv('cleaned_dataset.csv')\n",
    "\n",
    "# Convert DataFrame to a list of dictionaries\n",
    "data_dict_list = data.to_dict(orient='records')\n",
    "\n",
    "# Save the list of dictionaries as a JSON file\n",
    "with open('exoplanet.json', 'w') as json_file:\n",
    "    json.dump(data_dict_list, json_file, indent=4)"
   ],
   "metadata": {
    "collapsed": false
   }
  },
  {
   "cell_type": "code",
   "execution_count": null,
   "outputs": [],
   "source": [],
   "metadata": {
    "collapsed": false
   }
  }
 ],
 "metadata": {
  "kernelspec": {
   "display_name": "Python 3",
   "language": "python",
   "name": "python3"
  },
  "language_info": {
   "codemirror_mode": {
    "name": "ipython",
    "version": 2
   },
   "file_extension": ".py",
   "mimetype": "text/x-python",
   "name": "python",
   "nbconvert_exporter": "python",
   "pygments_lexer": "ipython2",
   "version": "2.7.6"
  }
 },
 "nbformat": 4,
 "nbformat_minor": 0
}
