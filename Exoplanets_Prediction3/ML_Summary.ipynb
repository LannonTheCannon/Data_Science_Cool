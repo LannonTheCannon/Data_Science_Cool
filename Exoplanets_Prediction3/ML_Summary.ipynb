{
 "cells": [
  {
   "cell_type": "code",
   "execution_count": 1,
   "metadata": {
    "collapsed": true
   },
   "outputs": [
    {
     "ename": "ModuleNotFoundError",
     "evalue": "No module named 'transformers'",
     "output_type": "error",
     "traceback": [
      "\u001B[0;31m---------------------------------------------------------------------------\u001B[0m",
      "\u001B[0;31mModuleNotFoundError\u001B[0m                       Traceback (most recent call last)",
      "Cell \u001B[0;32mIn[1], line 1\u001B[0m\n\u001B[0;32m----> 1\u001B[0m \u001B[38;5;28;01mfrom\u001B[39;00m \u001B[38;5;21;01mtransformers\u001B[39;00m \u001B[38;5;28;01mimport\u001B[39;00m pipeline\n\u001B[1;32m      3\u001B[0m summarizer \u001B[38;5;241m=\u001B[39m pipeline(\u001B[38;5;124m'\u001B[39m\u001B[38;5;124msummarization\u001B[39m\u001B[38;5;124m'\u001B[39m)\n\u001B[1;32m      5\u001B[0m article \u001B[38;5;241m=\u001B[39m \u001B[38;5;124m'''\u001B[39m\n\u001B[1;32m      6\u001B[0m \u001B[38;5;124mThere are countless excellent resources on data science, and it can be a little overwhelming to know where to start. This article will list some of the most useful blogs and websites for everyone—from data science experts to complete newbies. In addition to offering advice and learning resources, this list of data science blogs is also full of websites to keep informed about current news, trends, and opinions from professionals. If you’re just getting started and want to learn a little more about the subject itself, also check out our list of the best books about data science for beginners (link).\u001B[39m\n\u001B[1;32m      7\u001B[0m \n\u001B[0;32m   (...)\u001B[0m\n\u001B[1;32m     18\u001B[0m \u001B[38;5;124mRun By: Gil Press Website link: WhatsTheBigData.com What\u001B[39m\u001B[38;5;124m'\u001B[39m\u001B[38;5;124ms The Big Data? takes a different approach to data science and focuses on the impact of big data’s growth into the digital behemoth it is today. The blog’s founder, Gil Press, is intimately familiar with big data and data science, having spent a career in data research and now running a consulting practice. In his blog, Press explores how big data interacts with our lives and impacts everything from technology to business to government and policy. He provides a source of news and commentary on the sphere of data.\u001B[39m\n\u001B[1;32m     19\u001B[0m \u001B[38;5;124m'''\u001B[39m\n",
      "\u001B[0;31mModuleNotFoundError\u001B[0m: No module named 'transformers'"
     ]
    }
   ],
   "source": [
    "from transformers import pipeline\n",
    "\n",
    "summarizer = pipeline('summarization')\n",
    "\n",
    "article = '''\n",
    "There are countless excellent resources on data science, and it can be a little overwhelming to know where to start. This article will list some of the most useful blogs and websites for everyone—from data science experts to complete newbies. In addition to offering advice and learning resources, this list of data science blogs is also full of websites to keep informed about current news, trends, and opinions from professionals. If you’re just getting started and want to learn a little more about the subject itself, also check out our list of the best books about data science for beginners (link).\n",
    "\n",
    "1. Data Science Central\n",
    "\n",
    "Run By: Vincent Granville Website link: DataScienceCentral.com Data Science Central does exactly what its name suggests and acts as an online resource hub for just about everything related to data science and big data. The site covers a wide array of data science topics regarding analytics, technology, tools, data visualization, code, and job opportunities. Industry experts contribute discussion and insights about key topics. The site updates frequently, nearly two blog posts a day from contributing writers, and it also offers a community forum for discussion or questions.\n",
    "\n",
    "2. SmartData Collective\n",
    "\n",
    "Run By: Social Media Today Website link: SmartDataCollective.com SmartData Collective is a community site focused on trends in business intelligence and data management. Similar to Data Science Central, it also features insights into data science through contributions by industry experts. Where Data Science Central focuses directly on data science as a whole, SmartData Collective looks at the wider field and how data science can intersect with business.\n",
    "\n",
    "3. What's The Big Data?\n",
    "\n",
    "Run By: Gil Press Website link: WhatsTheBigData.com What's The Big Data? takes a different approach to data science and focuses on the impact of big data’s growth into the digital behemoth it is today. The blog’s founder, Gil Press, is intimately familiar with big data and data science, having spent a career in data research and now running a consulting practice. In his blog, Press explores how big data interacts with our lives and impacts everything from technology to business to government and policy. He provides a source of news and commentary on the sphere of data.\n",
    "'''\n",
    "\n",
    "summarizer(article, max_length=130, min_length=30, do_sample=False)\n",
    "\n"
   ]
  },
  {
   "cell_type": "code",
   "execution_count": null,
   "outputs": [],
   "source": [],
   "metadata": {
    "collapsed": false
   }
  }
 ],
 "metadata": {
  "kernelspec": {
   "display_name": "Python 3",
   "language": "python",
   "name": "python3"
  },
  "language_info": {
   "codemirror_mode": {
    "name": "ipython",
    "version": 2
   },
   "file_extension": ".py",
   "mimetype": "text/x-python",
   "name": "python",
   "nbconvert_exporter": "python",
   "pygments_lexer": "ipython2",
   "version": "2.7.6"
  }
 },
 "nbformat": 4,
 "nbformat_minor": 0
}
