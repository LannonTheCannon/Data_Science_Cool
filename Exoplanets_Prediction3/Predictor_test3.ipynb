{
 "cells": [
  {
   "cell_type": "markdown",
   "source": [],
   "metadata": {
    "collapsed": false
   }
  },
  {
   "cell_type": "markdown",
   "source": [
    "# Exoplanet Habitability Predictor\n",
    "\n",
    "## 1. Data Collection and Cleaning\n",
    "\n",
    "**Objective**: Gather data on exoplanets and prepare it for analysis.\n",
    "\n",
    "- **Source Data**: [NASA Exoplanet Archive](https://exoplanetarchive.ipac.caltech.edu/)\n",
    "- **Tasks**:\n",
    "    - Gather data on exoplanets.\n",
    "    - Clean: Remove missing values, outliers, irrelevant columns.\n",
    "    - Normalize/standardize features.\n",
    "    - Split data: training, validation, test sets.\n",
    "\n",
    "---\n",
    "\n",
    "## 2. Exploratory Data Analysis (EDA)\n",
    "\n",
    "**Objective**: Understand the distribution of the data and identify potential features.\n",
    "\n",
    "- **Tasks**:\n",
    "    - Visualize distributions of features.\n",
    "    - Correlations between features & habitability.\n",
    "    - Identify potential features.\n",
    "\n",
    "---\n",
    "\n",
    "## 3. Model Training & Evaluation\n",
    "\n",
    "**Objective**: Develop a model that predicts habitability scores based on exoplanet features.\n",
    "\n",
    "- **Tasks**:\n",
    "    - Choose a machine learning model (e.g., Regression).\n",
    "    - Train the model on the training set.\n",
    "    - Validate on the validation set.\n",
    "    - Metrics: MAE, RMSE.\n",
    "    - Hyperparameter optimization: grid search, random search.\n",
    "    - Test on the test set.\n",
    "\n",
    "---\n",
    "\n",
    "## 4. Model Deployment with Flask\n",
    "\n",
    "**Objective**: Integrate the trained model into a Flask application for real-time predictions.\n",
    "\n",
    "- **Tasks**:\n",
    "    - Create a Flask app.\n",
    "    - Integrate model using `pickle`.\n",
    "    - Design endpoints: receive exoplanet parameters, return scores.\n",
    "\n",
    "---\n",
    "\n",
    "## 5. Front-End Development\n",
    "\n",
    "**Objective**: Create a user-friendly interface for the habitability predictor.\n",
    "\n",
    "- **Tasks**:\n",
    "    - Design web interface (HTML, CSS, JavaScript).\n",
    "    - Input: exoplanet parameters.\n",
    "    - Output: predicted habitability score.\n",
    "\n",
    "---\n",
    "\n",
    "## 6. Testing & Debugging\n",
    "\n",
    "**Objective**: Ensure the complete system functions as expected.\n",
    "\n",
    "- **Tasks**:\n",
    "    - Test system end-to-end.\n",
    "    - Check Flask app functionality.\n",
    "    - Web interface & Flask app communication.\n",
    "    - Error handling.\n",
    "\n",
    "---\n",
    "\n",
    "## 7. Documentation & User Guide\n",
    "\n",
    "**Objective**: Document the process and provide a guide for users.\n",
    "\n",
    "- **Tasks**:\n",
    "    - Document: Data collection, model training, deployment.\n",
    "    - User guide: Using the predictor.\n",
    "\n",
    "---\n",
    "\n",
    "## 8. Deployment & Monitoring\n",
    "\n",
    "**Objective**: Make the predictor available to users and ensure it functions over time.\n",
    "\n",
    "- **Tasks**:\n",
    "    - Deploy Flask app (e.g., Heroku).\n",
    "    - Monitor for issues/bugs.\n",
    "    - Collect user feedback.\n",
    "\n"
   ],
   "metadata": {
    "collapsed": false
   }
  },
  {
   "cell_type": "markdown",
   "source": [
    "## 2. Exploratory Data Analysis (EDA)\n",
    "\n",
    "### 2.1 Load Cleaned Data"
   ],
   "metadata": {
    "collapsed": false
   }
  },
  {
   "cell_type": "code",
   "execution_count": 1,
   "outputs": [
    {
     "data": {
      "text/plain": "                   name  distance  stellar_magnitude planet_type  \\\n0  11 Comae Berenices b     304.0            4.72307   Gas Giant   \n1    11 Ursae Minoris b     409.0            5.01300   Gas Giant   \n2       14 Andromedae b     246.0            5.23133   Gas Giant   \n3         14 Herculis b      58.0            6.61935   Gas Giant   \n4          16 Cygni B b      69.0            6.21500   Gas Giant   \n\n   discovery_year  mass_multiplier mass_wrt  radius_multiplier radius_wrt  \\\n0            2007         19.40000  Jupiter               1.08    Jupiter   \n1            2009         14.74000  Jupiter               1.09    Jupiter   \n2            2008          4.80000  Jupiter               1.15    Jupiter   \n3            2002          8.13881  Jupiter               1.12    Jupiter   \n4            1996          1.78000  Jupiter               1.20    Jupiter   \n\n   orbital_radius  orbital_period  eccentricity detection_method  \n0        1.290000        0.892539          0.23  Radial Velocity  \n1        1.530000        1.400000          0.08  Radial Velocity  \n2        0.830000        0.508693          0.00  Radial Velocity  \n3        2.773069        4.800000          0.37  Radial Velocity  \n4        1.660000        2.200000          0.68  Radial Velocity  ",
      "text/html": "<div>\n<style scoped>\n    .dataframe tbody tr th:only-of-type {\n        vertical-align: middle;\n    }\n\n    .dataframe tbody tr th {\n        vertical-align: top;\n    }\n\n    .dataframe thead th {\n        text-align: right;\n    }\n</style>\n<table border=\"1\" class=\"dataframe\">\n  <thead>\n    <tr style=\"text-align: right;\">\n      <th></th>\n      <th>name</th>\n      <th>distance</th>\n      <th>stellar_magnitude</th>\n      <th>planet_type</th>\n      <th>discovery_year</th>\n      <th>mass_multiplier</th>\n      <th>mass_wrt</th>\n      <th>radius_multiplier</th>\n      <th>radius_wrt</th>\n      <th>orbital_radius</th>\n      <th>orbital_period</th>\n      <th>eccentricity</th>\n      <th>detection_method</th>\n    </tr>\n  </thead>\n  <tbody>\n    <tr>\n      <th>0</th>\n      <td>11 Comae Berenices b</td>\n      <td>304.0</td>\n      <td>4.72307</td>\n      <td>Gas Giant</td>\n      <td>2007</td>\n      <td>19.40000</td>\n      <td>Jupiter</td>\n      <td>1.08</td>\n      <td>Jupiter</td>\n      <td>1.290000</td>\n      <td>0.892539</td>\n      <td>0.23</td>\n      <td>Radial Velocity</td>\n    </tr>\n    <tr>\n      <th>1</th>\n      <td>11 Ursae Minoris b</td>\n      <td>409.0</td>\n      <td>5.01300</td>\n      <td>Gas Giant</td>\n      <td>2009</td>\n      <td>14.74000</td>\n      <td>Jupiter</td>\n      <td>1.09</td>\n      <td>Jupiter</td>\n      <td>1.530000</td>\n      <td>1.400000</td>\n      <td>0.08</td>\n      <td>Radial Velocity</td>\n    </tr>\n    <tr>\n      <th>2</th>\n      <td>14 Andromedae b</td>\n      <td>246.0</td>\n      <td>5.23133</td>\n      <td>Gas Giant</td>\n      <td>2008</td>\n      <td>4.80000</td>\n      <td>Jupiter</td>\n      <td>1.15</td>\n      <td>Jupiter</td>\n      <td>0.830000</td>\n      <td>0.508693</td>\n      <td>0.00</td>\n      <td>Radial Velocity</td>\n    </tr>\n    <tr>\n      <th>3</th>\n      <td>14 Herculis b</td>\n      <td>58.0</td>\n      <td>6.61935</td>\n      <td>Gas Giant</td>\n      <td>2002</td>\n      <td>8.13881</td>\n      <td>Jupiter</td>\n      <td>1.12</td>\n      <td>Jupiter</td>\n      <td>2.773069</td>\n      <td>4.800000</td>\n      <td>0.37</td>\n      <td>Radial Velocity</td>\n    </tr>\n    <tr>\n      <th>4</th>\n      <td>16 Cygni B b</td>\n      <td>69.0</td>\n      <td>6.21500</td>\n      <td>Gas Giant</td>\n      <td>1996</td>\n      <td>1.78000</td>\n      <td>Jupiter</td>\n      <td>1.20</td>\n      <td>Jupiter</td>\n      <td>1.660000</td>\n      <td>2.200000</td>\n      <td>0.68</td>\n      <td>Radial Velocity</td>\n    </tr>\n  </tbody>\n</table>\n</div>"
     },
     "execution_count": 1,
     "metadata": {},
     "output_type": "execute_result"
    }
   ],
   "source": [
    "import pandas as pd\n",
    "\n",
    "# Load the cleaned dataset\n",
    "data_path = \"../data/cleaned_5250.csv\"\n",
    "data = pd.read_csv(data_path)\n",
    "\n",
    "# Display the first few rows to understand its structure\n",
    "data.head()"
   ],
   "metadata": {
    "collapsed": false
   }
  },
  {
   "cell_type": "markdown",
   "source": [
    "### 2.2 Data Overview"
   ],
   "metadata": {
    "collapsed": false
   }
  },
  {
   "cell_type": "code",
   "execution_count": 2,
   "outputs": [
    {
     "data": {
      "text/plain": "           distance  stellar_magnitude  discovery_year  mass_multiplier  \\\ncount   5233.000000        5089.000000     5250.000000      5227.000000   \nmean    2167.168737          12.683738     2015.732190         6.434812   \nstd     3245.522087           3.107571        4.307336        12.972727   \nmin        4.000000           0.872000     1992.000000         0.020000   \n25%      389.000000          10.939000     2014.000000         1.804000   \n50%     1371.000000          13.543000     2016.000000         4.170140   \n75%     2779.000000          15.021000     2018.000000         8.000000   \nmax    27727.000000          44.610000     2023.000000       752.000000   \n\n       radius_multiplier  orbital_radius  orbital_period  eccentricity  \ncount        5233.000000     4961.000000    5.250000e+03   5250.000000  \nmean            1.015121        6.962942    4.791509e+02      0.063568  \nstd             0.603479      138.673600    1.680445e+04      0.141424  \nmin             0.200000        0.004400    2.737851e-04     -0.520000  \n25%             0.325000        0.053000    1.259411e-02      0.000000  \n50%             1.120000        0.102800    3.449692e-02      0.000000  \n75%             1.410000        0.286000    1.442163e-01      0.060000  \nmax             6.900000     7506.000000    1.101370e+06      0.950000  ",
      "text/html": "<div>\n<style scoped>\n    .dataframe tbody tr th:only-of-type {\n        vertical-align: middle;\n    }\n\n    .dataframe tbody tr th {\n        vertical-align: top;\n    }\n\n    .dataframe thead th {\n        text-align: right;\n    }\n</style>\n<table border=\"1\" class=\"dataframe\">\n  <thead>\n    <tr style=\"text-align: right;\">\n      <th></th>\n      <th>distance</th>\n      <th>stellar_magnitude</th>\n      <th>discovery_year</th>\n      <th>mass_multiplier</th>\n      <th>radius_multiplier</th>\n      <th>orbital_radius</th>\n      <th>orbital_period</th>\n      <th>eccentricity</th>\n    </tr>\n  </thead>\n  <tbody>\n    <tr>\n      <th>count</th>\n      <td>5233.000000</td>\n      <td>5089.000000</td>\n      <td>5250.000000</td>\n      <td>5227.000000</td>\n      <td>5233.000000</td>\n      <td>4961.000000</td>\n      <td>5.250000e+03</td>\n      <td>5250.000000</td>\n    </tr>\n    <tr>\n      <th>mean</th>\n      <td>2167.168737</td>\n      <td>12.683738</td>\n      <td>2015.732190</td>\n      <td>6.434812</td>\n      <td>1.015121</td>\n      <td>6.962942</td>\n      <td>4.791509e+02</td>\n      <td>0.063568</td>\n    </tr>\n    <tr>\n      <th>std</th>\n      <td>3245.522087</td>\n      <td>3.107571</td>\n      <td>4.307336</td>\n      <td>12.972727</td>\n      <td>0.603479</td>\n      <td>138.673600</td>\n      <td>1.680445e+04</td>\n      <td>0.141424</td>\n    </tr>\n    <tr>\n      <th>min</th>\n      <td>4.000000</td>\n      <td>0.872000</td>\n      <td>1992.000000</td>\n      <td>0.020000</td>\n      <td>0.200000</td>\n      <td>0.004400</td>\n      <td>2.737851e-04</td>\n      <td>-0.520000</td>\n    </tr>\n    <tr>\n      <th>25%</th>\n      <td>389.000000</td>\n      <td>10.939000</td>\n      <td>2014.000000</td>\n      <td>1.804000</td>\n      <td>0.325000</td>\n      <td>0.053000</td>\n      <td>1.259411e-02</td>\n      <td>0.000000</td>\n    </tr>\n    <tr>\n      <th>50%</th>\n      <td>1371.000000</td>\n      <td>13.543000</td>\n      <td>2016.000000</td>\n      <td>4.170140</td>\n      <td>1.120000</td>\n      <td>0.102800</td>\n      <td>3.449692e-02</td>\n      <td>0.000000</td>\n    </tr>\n    <tr>\n      <th>75%</th>\n      <td>2779.000000</td>\n      <td>15.021000</td>\n      <td>2018.000000</td>\n      <td>8.000000</td>\n      <td>1.410000</td>\n      <td>0.286000</td>\n      <td>1.442163e-01</td>\n      <td>0.060000</td>\n    </tr>\n    <tr>\n      <th>max</th>\n      <td>27727.000000</td>\n      <td>44.610000</td>\n      <td>2023.000000</td>\n      <td>752.000000</td>\n      <td>6.900000</td>\n      <td>7506.000000</td>\n      <td>1.101370e+06</td>\n      <td>0.950000</td>\n    </tr>\n  </tbody>\n</table>\n</div>"
     },
     "execution_count": 2,
     "metadata": {},
     "output_type": "execute_result"
    }
   ],
   "source": [
    "data.describe()"
   ],
   "metadata": {
    "collapsed": false
   }
  },
  {
   "cell_type": "markdown",
   "source": [
    "### 2.3 Feature Distributions\n",
    "Visualizing the distributions of individual features can be helpful."
   ],
   "metadata": {
    "collapsed": false
   }
  },
  {
   "cell_type": "code",
   "execution_count": 9,
   "outputs": [],
   "source": [
    "import matplotlib.pyplot as plt\n",
    "import seaborn as sns\n",
    "import numpy as np\n",
    "import pandas as pd\n",
    "\n",
    "features = data.columns()\n",
    "\n",
    "for feature in features:\n",
    "    plt.figure(figsize=(10, 5))\n",
    "    sns.histplot(data[feature], bins=50, kde=True)\n",
    "    plt.title(f'Distribution of {feature}')\n",
    "    plt.show()"
   ],
   "metadata": {
    "collapsed": false
   }
  },
  {
   "cell_type": "code",
   "execution_count": null,
   "outputs": [],
   "source": [],
   "metadata": {
    "collapsed": false
   }
  }
 ],
 "metadata": {
  "kernelspec": {
   "display_name": "Python 3",
   "language": "python",
   "name": "python3"
  },
  "language_info": {
   "codemirror_mode": {
    "name": "ipython",
    "version": 2
   },
   "file_extension": ".py",
   "mimetype": "text/x-python",
   "name": "python",
   "nbconvert_exporter": "python",
   "pygments_lexer": "ipython2",
   "version": "2.7.6"
  }
 },
 "nbformat": 4,
 "nbformat_minor": 0
}
