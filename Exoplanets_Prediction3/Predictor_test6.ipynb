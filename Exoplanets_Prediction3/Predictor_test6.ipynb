{
 "cells": [
  {
   "cell_type": "code",
   "execution_count": null,
   "outputs": [],
   "source": [
    "# Title"
   ],
   "metadata": {
    "collapsed": false
   }
  },
  {
   "cell_type": "code",
   "execution_count": null,
   "metadata": {
    "collapsed": true,
    "pycharm": {
     "is_executing": true
    }
   },
   "outputs": [],
   "source": [
    "import pandas as pd\n",
    "import json\n",
    "\n",
    "# Load your dataset into a DataFrame (replace 'your_dataset.csv' with your actual file)\n",
    "data = pd.read_csv('../data/cleaned_dataset_updated.csv')\n",
    "\n",
    "# # Convert DataFrame to a list of dictionaries\n",
    "# data_dict_list = data.to_dict(orient='records')\n",
    "#\n",
    "# # Save the list of dictionaries as a JSON file\n",
    "# with open('exoplanet.json', 'w') as json_file:\n",
    "#     json.dump(data_dict_list, json_file, indent=4)"
   ]
  },
  {
   "cell_type": "code",
   "execution_count": null,
   "outputs": [],
   "source": [
    "import matplotlib.pyplot as plt\n",
    "import seaborn as sns"
   ],
   "metadata": {
    "collapsed": false,
    "pycharm": {
     "is_executing": true
    }
   }
  },
  {
   "cell_type": "code",
   "execution_count": null,
   "outputs": [],
   "source": [
    "data.columns"
   ],
   "metadata": {
    "collapsed": false,
    "pycharm": {
     "is_executing": true
    }
   }
  },
  {
   "cell_type": "code",
   "execution_count": null,
   "outputs": [],
   "source": [
    "# Visualizing distributions of key numerical columns\n",
    "numerical_columns = ['stellar_magnitude', 'mass_multiplier', 'radius_multiplier', 'orbital_radius', 'orbital_period']\n",
    "\n",
    "plt.figure(figsize=(15, 12))\n",
    "\n",
    "for i, col in enumerate(numerical_columns, 1):\n",
    "    plt.subplot(3, 2, i)\n",
    "    sns.histplot(data[col], kde=True, color='teal', bins=30)\n",
    "    plt.title(f'Distribution of {col}')\n",
    "    plt.xlabel(col)\n",
    "    plt.ylabel('Frequency')\n",
    "\n",
    "plt.tight_layout()\n",
    "plt.show()"
   ],
   "metadata": {
    "collapsed": false,
    "pycharm": {
     "is_executing": true
    }
   }
  },
  {
   "cell_type": "code",
   "execution_count": null,
   "outputs": [],
   "source": [
    "# Visualizing distributions of key categorical columns\n",
    "categorical_columns = ['detection_method', 'habitable_zone', 'climate_stability', 'possibility_of_moon', 'atmospheric_density']\n",
    "\n",
    "plt.figure(figsize=(15, 15))\n",
    "\n",
    "for i, col in enumerate(categorical_columns, 1):\n",
    "    plt.subplot(3, 2, i)\n",
    "    sns.countplot(y=data[col], order=data[col].value_counts().index, palette=\"magma\")\n",
    "    plt.title(f'Distribution of {col}')\n",
    "    plt.xlabel('Count')\n",
    "    plt.ylabel(col)\n",
    "\n",
    "plt.tight_layout()\n",
    "plt.show()"
   ],
   "metadata": {
    "collapsed": false,
    "pycharm": {
     "is_executing": true
    }
   }
  },
  {
   "cell_type": "code",
   "execution_count": null,
   "outputs": [],
   "source": [
    "#Detection Method: The majority of exoplanets in this dataset were detected using the \"Transit\" method, followed by \"Radial Velocity\". The other methods were used less frequently.\n",
    "#Habitable Zone: A large number of exoplanets fall outside the habitable zone, meaning they might not support life as we know it.\n",
    "#Climate Stability: For many planets, the climate stability is unknown. Among those for which it's known, \"Low\" stability is most common.\n",
    "#Possibility of Moon: The possibility of these planets having moons is mostly unknown. For known cases, a \"High\" possibility is more common than a \"Low\" possibility.\n",
    "#Atmospheric Density: The atmospheric density is predominantly \"Medium\" for most planets, followed by \"Unknown\", \"Low\", and \"High\"."
   ],
   "metadata": {
    "collapsed": false,
    "pycharm": {
     "is_executing": true
    }
   }
  },
  {
   "cell_type": "code",
   "execution_count": null,
   "outputs": [],
   "source": [
    "#Habitable Zone: Whether the planet is within the star's habitable zone (often called the Goldilocks zone) where conditions might be right for liquid water.\n",
    "#Planet Surface Temperature: A suitable temperature range could support liquid water and potentially life.\n",
    "#Atmospheric Pressure: Suitable pressure is essential for maintaining liquid water and possibly supporting life.\n",
    "#Climate Stability: A stable climate could be more conducive to the development and sustenance of life.\n",
    "#Radiation Exposure: High radiation levels can be detrimental to life.\n",
    "#Biosignature Potential: Indicators that could suggest the possibility of life."
   ],
   "metadata": {
    "collapsed": false,
    "pycharm": {
     "is_executing": true
    }
   }
  },
  {
   "cell_type": "code",
   "execution_count": null,
   "outputs": [],
   "source": [
    "# Habitability-related columns\n",
    "habitability_columns = ['habitable_zone', 'planet_surface_temperature', 'atmospheric_pressure',\n",
    "                        'climate_stability', 'radiation_exposure', 'biosignature_potential']\n",
    "\n",
    "plt.figure(figsize=(20, 18))\n",
    "\n",
    "for i, col in enumerate(habitability_columns, 1):\n",
    "    plt.subplot(3, 2, i)\n",
    "\n",
    "    # If column is categorical, use a count plot\n",
    "    if data[col].dtype == 'object':\n",
    "        sns.countplot(y=data[col], order=data[col].value_counts().index, palette=\"cividis\")\n",
    "        plt.ylabel(col)\n",
    "        plt.xlabel('Count')\n",
    "    # If column is numerical, use a histogram\n",
    "    else:\n",
    "        sns.histplot(data[col], kde=True, color='purple', bins=30)\n",
    "        plt.xlabel(col)\n",
    "        plt.ylabel('Frequency')\n",
    "\n",
    "    plt.title(f'Distribution of {col}')\n",
    "\n",
    "plt.tight_layout()\n",
    "plt.show()"
   ],
   "metadata": {
    "collapsed": false,
    "pycharm": {
     "is_executing": true
    }
   }
  },
  {
   "cell_type": "code",
   "execution_count": null,
   "outputs": [],
   "source": [
    "# Visualizing distribution of planetary composition hypothesis\n",
    "plt.figure(figsize=(12, 8))\n",
    "sns.countplot(y=\"planetary_composition_hypothesis\", data=data, order=data[\"planetary_composition_hypothesis\"].value_counts().index, palette=\"plasma\")\n",
    "plt.title(\"Distribution of Planetary Composition Hypothesis\")\n",
    "plt.xlabel(\"Number of Planets\")\n",
    "plt.ylabel(\"Planetary Composition Hypothesis\")\n",
    "plt.show()\n"
   ],
   "metadata": {
    "collapsed": false,
    "pycharm": {
     "is_executing": true
    }
   }
  },
  {
   "cell_type": "code",
   "execution_count": null,
   "outputs": [],
   "source": [],
   "metadata": {
    "collapsed": false
   }
  }
 ],
 "metadata": {
  "kernelspec": {
   "display_name": "Python 3",
   "language": "python",
   "name": "python3"
  },
  "language_info": {
   "codemirror_mode": {
    "name": "ipython",
    "version": 2
   },
   "file_extension": ".py",
   "mimetype": "text/x-python",
   "name": "python",
   "nbconvert_exporter": "python",
   "pygments_lexer": "ipython2",
   "version": "2.7.6"
  }
 },
 "nbformat": 4,
 "nbformat_minor": 0
}
