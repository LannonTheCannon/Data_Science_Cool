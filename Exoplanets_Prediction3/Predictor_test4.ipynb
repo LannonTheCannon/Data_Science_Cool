{
 "cells": [
  {
   "cell_type": "markdown",
   "source": [],
   "metadata": {
    "collapsed": false
   }
  },
  {
   "cell_type": "code",
   "execution_count": 3,
   "outputs": [],
   "source": [],
   "metadata": {
    "collapsed": false
   }
  },
  {
   "cell_type": "code",
   "execution_count": 14,
   "outputs": [],
   "source": [
    "import pandas as pd\n",
    "import numpy as np\n",
    "\n",
    "# Load the cleaned dataset\n",
    "data_path = \"../data/cleaned_5250.csv\"\n",
    "df = pd.read_csv(data_path)"
   ],
   "metadata": {
    "collapsed": false
   }
  },
  {
   "cell_type": "code",
   "execution_count": 15,
   "outputs": [
    {
     "data": {
      "text/plain": "                   name  distance  stellar_magnitude planet_type  \\\n0  11 Comae Berenices b     304.0            4.72307   Gas Giant   \n1    11 Ursae Minoris b     409.0            5.01300   Gas Giant   \n2       14 Andromedae b     246.0            5.23133   Gas Giant   \n3         14 Herculis b      58.0            6.61935   Gas Giant   \n4          16 Cygni B b      69.0            6.21500   Gas Giant   \n\n   discovery_year  mass_multiplier mass_wrt  radius_multiplier radius_wrt  \\\n0            2007         19.40000  Jupiter               1.08    Jupiter   \n1            2009         14.74000  Jupiter               1.09    Jupiter   \n2            2008          4.80000  Jupiter               1.15    Jupiter   \n3            2002          8.13881  Jupiter               1.12    Jupiter   \n4            1996          1.78000  Jupiter               1.20    Jupiter   \n\n   orbital_radius  orbital_period  eccentricity detection_method  \n0        1.290000        0.892539          0.23  Radial Velocity  \n1        1.530000        1.400000          0.08  Radial Velocity  \n2        0.830000        0.508693          0.00  Radial Velocity  \n3        2.773069        4.800000          0.37  Radial Velocity  \n4        1.660000        2.200000          0.68  Radial Velocity  ",
      "text/html": "<div>\n<style scoped>\n    .dataframe tbody tr th:only-of-type {\n        vertical-align: middle;\n    }\n\n    .dataframe tbody tr th {\n        vertical-align: top;\n    }\n\n    .dataframe thead th {\n        text-align: right;\n    }\n</style>\n<table border=\"1\" class=\"dataframe\">\n  <thead>\n    <tr style=\"text-align: right;\">\n      <th></th>\n      <th>name</th>\n      <th>distance</th>\n      <th>stellar_magnitude</th>\n      <th>planet_type</th>\n      <th>discovery_year</th>\n      <th>mass_multiplier</th>\n      <th>mass_wrt</th>\n      <th>radius_multiplier</th>\n      <th>radius_wrt</th>\n      <th>orbital_radius</th>\n      <th>orbital_period</th>\n      <th>eccentricity</th>\n      <th>detection_method</th>\n    </tr>\n  </thead>\n  <tbody>\n    <tr>\n      <th>0</th>\n      <td>11 Comae Berenices b</td>\n      <td>304.0</td>\n      <td>4.72307</td>\n      <td>Gas Giant</td>\n      <td>2007</td>\n      <td>19.40000</td>\n      <td>Jupiter</td>\n      <td>1.08</td>\n      <td>Jupiter</td>\n      <td>1.290000</td>\n      <td>0.892539</td>\n      <td>0.23</td>\n      <td>Radial Velocity</td>\n    </tr>\n    <tr>\n      <th>1</th>\n      <td>11 Ursae Minoris b</td>\n      <td>409.0</td>\n      <td>5.01300</td>\n      <td>Gas Giant</td>\n      <td>2009</td>\n      <td>14.74000</td>\n      <td>Jupiter</td>\n      <td>1.09</td>\n      <td>Jupiter</td>\n      <td>1.530000</td>\n      <td>1.400000</td>\n      <td>0.08</td>\n      <td>Radial Velocity</td>\n    </tr>\n    <tr>\n      <th>2</th>\n      <td>14 Andromedae b</td>\n      <td>246.0</td>\n      <td>5.23133</td>\n      <td>Gas Giant</td>\n      <td>2008</td>\n      <td>4.80000</td>\n      <td>Jupiter</td>\n      <td>1.15</td>\n      <td>Jupiter</td>\n      <td>0.830000</td>\n      <td>0.508693</td>\n      <td>0.00</td>\n      <td>Radial Velocity</td>\n    </tr>\n    <tr>\n      <th>3</th>\n      <td>14 Herculis b</td>\n      <td>58.0</td>\n      <td>6.61935</td>\n      <td>Gas Giant</td>\n      <td>2002</td>\n      <td>8.13881</td>\n      <td>Jupiter</td>\n      <td>1.12</td>\n      <td>Jupiter</td>\n      <td>2.773069</td>\n      <td>4.800000</td>\n      <td>0.37</td>\n      <td>Radial Velocity</td>\n    </tr>\n    <tr>\n      <th>4</th>\n      <td>16 Cygni B b</td>\n      <td>69.0</td>\n      <td>6.21500</td>\n      <td>Gas Giant</td>\n      <td>1996</td>\n      <td>1.78000</td>\n      <td>Jupiter</td>\n      <td>1.20</td>\n      <td>Jupiter</td>\n      <td>1.660000</td>\n      <td>2.200000</td>\n      <td>0.68</td>\n      <td>Radial Velocity</td>\n    </tr>\n  </tbody>\n</table>\n</div>"
     },
     "execution_count": 15,
     "metadata": {},
     "output_type": "execute_result"
    }
   ],
   "source": [
    "df.head()"
   ],
   "metadata": {
    "collapsed": false
   }
  },
  {
   "cell_type": "markdown",
   "source": [
    "The habitable zone (or \"Goldilocks zone\") is the region around a star where conditions might be just right for liquid water to exist on a planet's surface. The exact boundaries of the habitable zone can vary based on the type, age, and activity of the star. However, for our current dataset, without more detailed star information, we'll make some simplifying assumptions to determine the habitable zone based on orbital_radius.\n",
    "\n",
    "Approach:\n",
    "\n",
    "Simplified Assumptions:\n",
    "We'll assume all stars in the dataset are similar to our Sun (a G-type star).\n",
    "For a Sun-like star, the inner boundary of the habitable zone is roughly 0.95 AU (Astronomical Units) and the outer boundary is around 1.67 AU. An Astronomical Unit (AU) is the average distance from the Earth to the Sun, approximately 93 million miles or 150 million kilometers.\n",
    "Feature Creation:\n",
    "Based on the above boundaries, we'll categorize planets as being Inside, Outside, or On the Edge of the habitable zone."
   ],
   "metadata": {
    "collapsed": false
   }
  },
  {
   "cell_type": "code",
   "execution_count": 16,
   "outputs": [
    {
     "data": {
      "text/plain": "habitable_zone\nInside         0.850635\nOutside        0.105221\nOn the Edge    0.044144\nName: proportion, dtype: float64"
     },
     "execution_count": 16,
     "metadata": {},
     "output_type": "execute_result"
    }
   ],
   "source": [
    "# Define the boundaries for the habitable zone for a Sun-like star\n",
    "inner_boundary = 0.95\n",
    "outer_boundary = 1.67\n",
    "\n",
    "# Categorize planets based on their orbital_radius and the habitable zone boundaries\n",
    "df['habitable_zone'] = pd.cut(df['orbital_radius'],\n",
    "                              bins=[0, inner_boundary, outer_boundary, np.inf],\n",
    "                              labels=['Inside', 'On the Edge', 'Outside'],\n",
    "                              right=False)\n",
    "\n",
    "# Display the distribution of the new feature\n",
    "habitable_zone_distribution = df['habitable_zone'].value_counts(normalize=True)\n",
    "habitable_zone_distribution"
   ],
   "metadata": {
    "collapsed": false
   }
  },
  {
   "cell_type": "markdown",
   "source": [
    "Inside: About 85.06% of the exoplanets are within the habitable zone.\n",
    "Outside: Approximately 10.52% of the exoplanets are outside the habitable zone.\n",
    "On the Edge: Roughly 4.41% of the exoplanets are on the edge of the habitable zone.\n",
    "These percentages provide a simplified view based on our assumptions. In reality, the habitable zone can vary greatly depending on the specific characteristics of the star. However, for our dataset and the assumptions we made, the majority of exoplanets fall within the habitable zone."
   ],
   "metadata": {
    "collapsed": false
   }
  },
  {
   "cell_type": "code",
   "execution_count": null,
   "outputs": [],
   "source": [],
   "metadata": {
    "collapsed": false
   }
  }
 ],
 "metadata": {
  "kernelspec": {
   "display_name": "Python 3",
   "language": "python",
   "name": "python3"
  },
  "language_info": {
   "codemirror_mode": {
    "name": "ipython",
    "version": 2
   },
   "file_extension": ".py",
   "mimetype": "text/x-python",
   "name": "python",
   "nbconvert_exporter": "python",
   "pygments_lexer": "ipython2",
   "version": "2.7.6"
  }
 },
 "nbformat": 4,
 "nbformat_minor": 0
}
